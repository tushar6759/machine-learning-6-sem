{
  "nbformat": 4,
  "nbformat_minor": 0,
  "metadata": {
    "colab": {
      "name": "Lab1.ipynb",
      "provenance": [],
      "authorship_tag": "ABX9TyNCm+2Jh0p4V5iYtT9DaayS",
      "include_colab_link": true
    },
    "kernelspec": {
      "name": "python3",
      "display_name": "Python 3"
    },
    "language_info": {
      "name": "python"
    }
  },
  "cells": [
    {
      "cell_type": "markdown",
      "metadata": {
        "id": "view-in-github",
        "colab_type": "text"
      },
      "source": [
        "<a href=\"https://colab.research.google.com/github/sisbhumi/MachineLearning/blob/main/Lab1.ipynb\" target=\"_parent\"><img src=\"https://colab.research.google.com/assets/colab-badge.svg\" alt=\"Open In Colab\"/></a>"
      ]
    },
    {
      "cell_type": "code",
      "execution_count": null,
      "metadata": {
        "colab": {
          "base_uri": "https://localhost:8080/"
        },
        "id": "xrLbhJ52Fy-x",
        "outputId": "3ea61ea1-dd58-4b27-a9b1-553002eb997f"
      },
      "outputs": [
        {
          "output_type": "execute_result",
          "data": {
            "text/plain": [
              "[1, 4, 9, 16, 25, 36, 49, 64, 81, 100]"
            ]
          },
          "metadata": {},
          "execution_count": 3
        }
      ],
      "source": [
        "#1. Print square of natural number (1,10)\n",
        "l = [ i*i for i in range(1,11)]\n",
        "l"
      ]
    },
    {
      "cell_type": "code",
      "source": [
        "#2. To check whether 6 is present or not\n",
        "n = int(input(\"Enter a number \"))\n",
        "s = str(n)\n",
        "if '6' in s:\n",
        "  print('6 is present')\n",
        "else:\n",
        "  print('6 is not present')"
      ],
      "metadata": {
        "colab": {
          "base_uri": "https://localhost:8080/"
        },
        "id": "yrDThv74GM7H",
        "outputId": "a0cbccd5-833b-4847-f523-8b33c3ba81d3"
      },
      "execution_count": null,
      "outputs": [
        {
          "output_type": "stream",
          "name": "stdout",
          "text": [
            "Enter a number 452651\n",
            "6 is present\n"
          ]
        }
      ]
    },
    {
      "cell_type": "code",
      "source": [
        "#3. count number of spaces in string\n",
        "n=input(\"Enter a string \")\n",
        "L=[i for i in n if i==\" \"]\n",
        "print(len(L))"
      ],
      "metadata": {
        "colab": {
          "base_uri": "https://localhost:8080/"
        },
        "id": "6Qq2bL1ZK3kf",
        "outputId": "c2b1043d-d1d2-48a6-b02b-7ce9ba5cc9e5"
      },
      "execution_count": null,
      "outputs": [
        {
          "output_type": "stream",
          "name": "stdout",
          "text": [
            "Enter a string Hello guyz\n",
            "1\n"
          ]
        }
      ]
    },
    {
      "cell_type": "code",
      "source": [
        "#4. write table of 3\n",
        "li=[3*i for i in range(1,11)]\n",
        "li"
      ],
      "metadata": {
        "colab": {
          "base_uri": "https://localhost:8080/"
        },
        "id": "x0wVK53NLk8s",
        "outputId": "3d545448-1553-4a7e-a2be-5ce34aed14f1"
      },
      "execution_count": null,
      "outputs": [
        {
          "output_type": "execute_result",
          "data": {
            "text/plain": [
              "[3, 6, 9, 12, 15, 18, 21, 24, 27, 30]"
            ]
          },
          "metadata": {},
          "execution_count": 6
        }
      ]
    },
    {
      "cell_type": "code",
      "source": [
        "#5 find numbers between 1-1000 divisible by 2 and 5\n",
        "li=[i for i in range(1,1001) if (i%5==0 and i%2==0) ]\n",
        "for x in li:\n",
        "  print(x,end=\" \")"
      ],
      "metadata": {
        "colab": {
          "base_uri": "https://localhost:8080/"
        },
        "id": "7_hFWuP4LpjQ",
        "outputId": "38a6b7ff-41a5-4cf6-f0bf-22a05450e8e2"
      },
      "execution_count": null,
      "outputs": [
        {
          "output_type": "stream",
          "name": "stdout",
          "text": [
            "10 20 30 40 50 60 70 80 90 100 110 120 130 140 150 160 170 180 190 200 210 220 230 240 250 260 270 280 290 300 310 320 330 340 350 360 370 380 390 400 410 420 430 440 450 460 470 480 490 500 510 520 530 540 550 560 570 580 590 600 610 620 630 640 650 660 670 680 690 700 710 720 730 740 750 760 770 780 790 800 810 820 830 840 850 860 870 880 890 900 910 920 930 940 950 960 970 980 990 1000 "
          ]
        }
      ]
    }
  ]
}