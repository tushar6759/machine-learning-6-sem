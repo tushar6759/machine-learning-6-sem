{
  "nbformat": 4,
  "nbformat_minor": 0,
  "metadata": {
    "colab": {
      "name": "Lab2.ipynb",
      "provenance": [],
      "authorship_tag": "ABX9TyNZC6H14mXEVaXNNuOql13m",
      "include_colab_link": true
    },
    "kernelspec": {
      "name": "python3",
      "display_name": "Python 3"
    },
    "language_info": {
      "name": "python"
    }
  },
  "cells": [
    {
      "cell_type": "markdown",
      "metadata": {
        "id": "view-in-github",
        "colab_type": "text"
      },
      "source": [
        "<a href=\"https://colab.research.google.com/github/sisbhumi/MachineLearning/blob/main/Lab2.ipynb\" target=\"_parent\"><img src=\"https://colab.research.google.com/assets/colab-badge.svg\" alt=\"Open In Colab\"/></a>"
      ]
    },
    {
      "cell_type": "code",
      "execution_count": null,
      "metadata": {
        "colab": {
          "base_uri": "https://localhost:8080/"
        },
        "id": "03onXK2gObxW",
        "outputId": "50ba9e41-4c02-45f3-de6b-2a81b9e60417"
      },
      "outputs": [
        {
          "output_type": "stream",
          "name": "stdout",
          "text": [
            "To exit the loop write 0\n",
            "Enter birth month in num (1 for jan 2 for feb and so on)1 4 5 1 7 8 1 6 0\n",
            "{'Jan': 0, 'Feb': 0, 'Mar': 0, 'Apr': 0, 'May': 0, 'Jun': 0, 'Jul': 0, 'Aug': 0, 'Sep': 0, 'Oct': 0, 'Nov': 0, 'Dec': 0}\n",
            "Maximum birthday is in: Jan\n",
            "Minimum birthday is in: Jan\n"
          ]
        }
      ],
      "source": [
        "dict1={\"Jan\":0 ,\"Feb\":0, \"Mar\":0,\"Apr\":0,\"May\":0,\"Jun\":0,\"Jul\":0,\"Aug\":0,\"Sep\":0,\"Oct\":0,\"Nov\":0,\"Dec\":0}\n",
        "print(\"To exit the loop write 0\")\n",
        "while True:\n",
        "  n=input(\"Enter birth month in num (1 for jan 2 for feb and so on)\")\n",
        "  if (n==\"1\"):\n",
        "    dict1[\"Jan\"]=dict1[\"Jan\"]+1\n",
        "  elif (n==\"2\"):\n",
        "    dict1[\"Feb\"]=dict1[\"Feb\"]+1\n",
        "  elif (n==\"3\"): \n",
        "    dict1[\"Mar\"]=dict1[\"Mar\"]+1\n",
        "  elif (n==\"4\"):\n",
        "    dict1[\"Apr\"]=dict1[\"Apr\"]+1\n",
        "  elif (n==\"5\"):\n",
        "    dict1[\"May\"]=dict1[\"May\"]+1\n",
        "  elif (n==\"6\"):\n",
        "    dict1[\"Jun\"]=dict1[\"Jun\"]+1\n",
        "  elif (n==\"7\"):\n",
        "    dict1[\"Jul\"]=dict1[\"Jul\"]+1\n",
        "  elif (n==\"8\"):\n",
        "    dict1[\"Aug\"]=dict1[\"Aug\"]+1\n",
        "  elif (n==\"9\"):\n",
        "    dict1[\"Sep\"]=dict1[\"Sep\"]+1\n",
        "  elif (n==\"10\"):\n",
        "    dict1[\"Oct\"]=dict1[\"Oct\"]+1\n",
        "  elif (n==\"11\"):\n",
        "    dict1[\"Nov\"]=dict1[\"Nov\"]+1\n",
        "  elif (n==\"12\"):\n",
        "    dict1[\"Dec\"]=dict1[\"Dec\"]+1\n",
        "  else:\n",
        "    break;\n",
        "print(dict1)\n",
        "v=list(dict1.values())\n",
        "k=list(dict1.keys())\n",
        " \n",
        "print(\"Maximum birthday is in:\",k[v.index(max(v))])\n",
        "print(\"Minimum birthday is in:\",k[v.index(min(v))])"
      ]
    }
  ]
}